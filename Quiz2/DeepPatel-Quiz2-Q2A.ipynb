{
  "cells": [
    {
      "cell_type": "code",
      "execution_count": 1,
      "id": "75de7e08-6011-4812-be42-785eb51b5174",
      "metadata": {
        "trusted": true
      },
      "outputs": [
        {
          "name": "stdout",
          "output_type": "stream",
          "text": [
            "States: [(3, 3, 1), (3, 1, 0), (3, 2, 1), (3, 0, 0), (3, 1, 1), (1, 1, 0), (2, 2, 1), (0, 2, 0), (0, 3, 1), (0, 1, 0), (1, 1, 1), (0, 0, 0)]\n",
            "Path cost: 11\n",
            "Time: 0.0 seconds\n"
          ]
        }
      ],
      "source": [
        "# Deep Patel CSCE 580 Quiz 2 Question 2 Part A\n",
        "\n",
        "import time\n",
        "\n",
        "# Check if states are valid\n",
        "def is_valid(state):\n",
        "    m, c, b = state\n",
        "    if m < 0 or c < 0 or m > 3 or c > 3:\n",
        "        return False\n",
        "    # Check if missionaries are outnumbered by cannibals on either side\n",
        "    if m < c and m > 0:\n",
        "        return False\n",
        "    if 3 - m < 3 - c and 3 - m > 0:\n",
        "        return False\n",
        "    return True\n",
        "\n",
        "# Operation\n",
        "def successors(state):\n",
        "    m, c, b = state\n",
        "    moves = [(1, 0), (0, 1), (2, 0), (0, 2), (1, 1)]\n",
        "    if b == 1:\n",
        "        return [(m - dm, c - dc, 1 - b) for dm, dc in moves if 0 <= m - dm <= 3 and 0 <= c - dc <= 3 and is_valid((m - dm, c - dc, 1 - b))]\n",
        "    else:\n",
        "        return [(m + dm, c + dc, 1 - b) for dm, dc in moves if 0 <= m + dm <= 3 and 0 <= c + dc <= 3 and is_valid((m + dm, c + dc, 1 - b))]\n",
        "\n",
        "# Depth First Search\n",
        "def dfs_search(current_state, goal_state, visited, path):\n",
        "    if current_state == goal_state:\n",
        "        return path\n",
        "\n",
        "    visited.add(current_state)\n",
        "\n",
        "    for next_state in successors(current_state):\n",
        "        if next_state not in visited:\n",
        "            new_path = path + [next_state]\n",
        "            result = dfs_search(next_state, goal_state, visited, new_path)\n",
        "            if result:\n",
        "                return result\n",
        "\n",
        "    return None\n",
        "\n",
        "# Main\n",
        "def main():\n",
        "    start_state = (3, 3, 1)\n",
        "    goal_state = (0, 0, 0)\n",
        "    visited = set()\n",
        "    path = [(3, 3, 1)]\n",
        "    solution = dfs_search(start_state, goal_state, visited, path)\n",
        "    return solution\n",
        "\n",
        "# Time\n",
        "if __name__ == \"__main__\":\n",
        "    start_time = time.time()\n",
        "    solution = main()\n",
        "    end_time = time.time()\n",
        "\n",
        "# Print\n",
        "    if solution:\n",
        "        print(\"States:\", solution)\n",
        "        print(\"Path cost:\", len(solution) - 1)\n",
        "        print(\"Time:\", end_time - start_time, \"seconds\")\n"
      ]
    },
    {
      "cell_type": "code",
      "execution_count": null,
      "id": "2a8dedb1-7ed3-4f8c-b385-a06314aa5ecc",
      "metadata": {},
      "outputs": [],
      "source": []
    }
  ],
  "metadata": {
    "kernelspec": {
      "display_name": "Python 3",
      "language": "python",
      "name": "python3"
    },
    "language_info": {
      "codemirror_mode": {
        "name": "ipython",
        "version": 3
      },
      "file_extension": ".py",
      "mimetype": "text/x-python",
      "name": "python",
      "nbconvert_exporter": "python",
      "pygments_lexer": "ipython3",
      "version": "3.11.5"
    }
  },
  "nbformat": 4,
  "nbformat_minor": 5
}
