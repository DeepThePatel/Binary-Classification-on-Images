{
 "cells": [
  {
   "cell_type": "code",
   "execution_count": 9,
   "metadata": {},
   "outputs": [
    {
     "ename": "SyntaxError",
     "evalue": "(unicode error) 'unicodeescape' codec can't decode bytes in position 2-3: truncated \\UXXXXXXXX escape (4022855324.py, line 3)",
     "output_type": "error",
     "traceback": [
      "\u001b[1;36m  Cell \u001b[1;32mIn[9], line 3\u001b[1;36m\u001b[0m\n\u001b[1;33m    with open(\"C:\\Users\\deepk\\OneDrive\\Documents\\College\\6th Year\\CSCE 580\\CSCE580-Fall2023-DeepPatel-Repo\\data\\data_linear.txt\", \"r\") as file:\u001b[0m\n\u001b[1;37m                                                                                                                                ^\u001b[0m\n\u001b[1;31mSyntaxError\u001b[0m\u001b[1;31m:\u001b[0m (unicode error) 'unicodeescape' codec can't decode bytes in position 2-3: truncated \\UXXXXXXXX escape\n"
     ]
    }
   ],
   "source": [
    "# Read data from the text file\n",
    "data = []\n",
    "with open(\"data_linear.txt\", \"r\") as file:\n",
    "    for line in file:\n",
    "        x, y, score = map(float, line.strip().split(','))\n",
    "        data.append((x, y, int(score)))\n",
    "\n",
    "# Separate the data into passing and failing lists\n",
    "passing_data = [item for item in data if item[2] == 1]\n",
    "failing_data = [item for item in data if item[2] == 0]\n",
    "\n",
    "# Calculate the percentage of pass and fail\n",
    "total_data_count = len(data)\n",
    "passing_percentage = (len(passing_data) / total_data_count) * 100\n",
    "failing_percentage = (len(failing_data) / total_data_count) * 100\n",
    "\n",
    "# Display the results\n",
    "#print(\"Passing Data:\")\n",
    "#for item in passing_data:\n",
    "#    print(item)\n",
    "\n",
    "#print(\"\\nFailing Data:\")\n",
    "#for item in failing_data:\n",
    "#    print(item)\n",
    "\n",
    "print(\"\\nPassing Percentage:\", passing_percentage, \"%\")\n",
    "print(\"Failing Percentage:\", failing_percentage, \"%\")\n"
   ]
  }
 ],
 "metadata": {
  "kernelspec": {
   "display_name": "Python 3",
   "language": "python",
   "name": "python3"
  },
  "language_info": {
   "codemirror_mode": {
    "name": "ipython",
    "version": 3
   },
   "file_extension": ".py",
   "mimetype": "text/x-python",
   "name": "python",
   "nbconvert_exporter": "python",
   "pygments_lexer": "ipython3",
   "version": "3.11.5"
  }
 },
 "nbformat": 4,
 "nbformat_minor": 2
}
