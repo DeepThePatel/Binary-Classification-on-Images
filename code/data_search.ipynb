{
 "cells": [
  {
   "cell_type": "code",
   "execution_count": 23,
   "metadata": {},
   "outputs": [
    {
     "name": "stdout",
     "output_type": "stream",
     "text": [
      "\n",
      "Passing Percentage: 60.0 %\n",
      "Failing Percentage: 40.0 %\n"
     ]
    }
   ],
   "source": [
    "# Open data_linear.txt and process it\n",
    "data = []\n",
    "with open('../data/data_linear.txt', \"r\") as file:\n",
    "    for line in file:\n",
    "        x, y, score = map(float, line.strip().split(','))\n",
    "        data.append((x, y, int(score)))\n",
    "\n",
    "# Separate the data into passing and failing lists\n",
    "passing_data = [item for item in data if item[2] == 1]\n",
    "failing_data = [item for item in data if item[2] == 0]\n",
    "\n",
    "# Calculate the percentage of pass and fail\n",
    "total_data_count = len(data)\n",
    "passing_percentage = (len(passing_data) / total_data_count) * 100\n",
    "failing_percentage = (len(failing_data) / total_data_count) * 100\n",
    "\n",
    "# Open test.txt in ./test folder to store results\n",
    "test_file = open(\"../test/test.txt\", \"w\")\n",
    "\n",
    "# Display the results\n",
    "#print(\"Passing Data:\")\n",
    "#for item in passing_data:\n",
    "#    print(item)\n",
    "\n",
    "#print(\"\\nFailing Data:\")\n",
    "#for item in failing_data:\n",
    "#    print(item)\n",
    "\n",
    "print(\"\\nPassing Percentage:\", passing_percentage, \"%\")\n",
    "print(\"Failing Percentage:\", failing_percentage, \"%\")\n",
    "\n",
    "test_file.write(f\"Passing Percentage: {passing_percentage}\\n\")\n",
    "test_file.write(f\"Failing Percentage: {failing_percentage}\\n\")\n",
    "\n",
    "test_file.close()\n"
   ]
  }
 ],
 "metadata": {
  "kernelspec": {
   "display_name": "Python 3",
   "language": "python",
   "name": "python3"
  },
  "language_info": {
   "codemirror_mode": {
    "name": "ipython",
    "version": 3
   },
   "file_extension": ".py",
   "mimetype": "text/x-python",
   "name": "python",
   "nbconvert_exporter": "python",
   "pygments_lexer": "ipython3",
   "version": "3.11.5"
  }
 },
 "nbformat": 4,
 "nbformat_minor": 2
}
