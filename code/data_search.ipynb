{
 "cells": [
  {
   "cell_type": "code",
   "execution_count": 15,
   "metadata": {},
   "outputs": [
    {
     "name": "stdout",
     "output_type": "stream",
     "text": [
      "\n",
      "Passing Percentage: 60.0 %\n",
      "Failing Percentage: 40.0 %\n"
     ]
    }
   ],
   "source": [
    "# Read data from the text file\n",
    "data = []\n",
    "with open('../data/data_linear.txt', \"r\") as file:\n",
    "    for line in file:\n",
    "        x, y, score = map(float, line.strip().split(','))\n",
    "        data.append((x, y, int(score)))\n",
    "\n",
    "# Separate the data into passing and failing lists\n",
    "passing_data = [item for item in data if item[2] == 1]\n",
    "failing_data = [item for item in data if item[2] == 0]\n",
    "\n",
    "# Calculate the percentage of pass and fail\n",
    "total_data_count = len(data)\n",
    "passing_percentage = (len(passing_data) / total_data_count) * 100\n",
    "failing_percentage = (len(failing_data) / total_data_count) * 100\n",
    "\n",
    "# Display the results\n",
    "#print(\"Passing Data:\")\n",
    "#for item in passing_data:\n",
    "#    print(item)\n",
    "\n",
    "#print(\"\\nFailing Data:\")\n",
    "#for item in failing_data:\n",
    "#    print(item)\n",
    "\n",
    "print(\"\\nPassing Percentage:\", passing_percentage, \"%\")\n",
    "print(\"Failing Percentage:\", failing_percentage, \"%\")\n"
   ]
  }
 ],
 "metadata": {
  "kernelspec": {
   "display_name": "Python 3",
   "language": "python",
   "name": "python3"
  },
  "language_info": {
   "codemirror_mode": {
    "name": "ipython",
    "version": 3
   },
   "file_extension": ".py",
   "mimetype": "text/x-python",
   "name": "python",
   "nbconvert_exporter": "python",
   "pygments_lexer": "ipython3",
   "version": "3.11.5"
  }
 },
 "nbformat": 4,
 "nbformat_minor": 2
}
