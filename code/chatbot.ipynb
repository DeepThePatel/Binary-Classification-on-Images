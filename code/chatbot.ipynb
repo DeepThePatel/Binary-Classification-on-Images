{
  "cells": [
    {
      "cell_type": "code",
      "execution_count": 14,
      "id": "b947f953-6f41-4bca-a5f7-96471f149e39",
      "metadata": {},
      "outputs": [
        {
          "name": "stdout",
          "output_type": "stream",
          "text": [
            "You: hi\n",
            "Chatbot: Hello.\n",
            "You: hello\n",
            "Chatbot: Hi.\n",
            "You: q\n",
            "Chatbot: Goodbye!\n"
          ]
        }
      ],
      "source": [
        "# Function to load specific responses from chitchat.txt\n",
        "def load_specific_responses(file_path):\n",
        "    specific_responses = {}\n",
        "    with open(file_path, 'r') as file:\n",
        "        for line in file:\n",
        "            query, response = line.strip().split('|')\n",
        "            specific_responses[query.lower()] = response\n",
        "    return specific_responses\n",
        "\n",
        "# Load specific responses from chitchat.txt\n",
        "specific_responses = load_specific_responses(\"chitchat.txt\")\n",
        "\n",
        "# Open conversation.txt which stores conversation (file is wiped before next run, replace \"w\" with \"a\" to append)\n",
        "conversation_file = open(\"conversation.txt\", \"w\")\n",
        "\n",
        "# Main chatbot loop\n",
        "while True:\n",
        "    user_input = input(\"You: \").lower()\n",
        "    \n",
        "    if user_input in specific_responses:\n",
        "        print(f\"You: {user_input}\")\n",
        "        print(f\"Chatbot: {specific_responses[user_input]}\")\n",
        "        # Write conversation to conversation.txt\n",
        "        conversation_file.write(f\"You: {user_input}\\n\")\n",
        "        conversation_file.write(f\"Chatbot: {specific_responses[user_input]}\\n\")\n",
        "        # Quit\n",
        "        if user_input in [\"q\", \"quit\"]:\n",
        "            break\n",
        "    else:\n",
        "        print(\"Chatbot: I do not know that information.\")\n",
        "\n",
        "# Close details file\n",
        "conversation_file.close()\n"
      ]
    }
  ],
  "metadata": {
    "kernelspec": {
      "display_name": "Python 3",
      "language": "python",
      "name": "python3"
    },
    "language_info": {
      "codemirror_mode": {
        "name": "ipython",
        "version": 3
      },
      "file_extension": ".py",
      "mimetype": "text/x-python",
      "name": "python",
      "nbconvert_exporter": "python",
      "pygments_lexer": "ipython3",
      "version": "3.11.5"
    }
  },
  "nbformat": 4,
  "nbformat_minor": 5
}
