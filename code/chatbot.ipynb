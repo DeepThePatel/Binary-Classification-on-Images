{
  "cells": [
    {
      "cell_type": "code",
      "execution_count": 2,
      "id": "b947f953-6f41-4bca-a5f7-96471f149e39",
      "metadata": {},
      "outputs": [
        {
          "name": "stdout",
          "output_type": "stream",
          "text": [
            "You: keras\n"
          ]
        },
        {
          "ename": "KeyboardInterrupt",
          "evalue": "",
          "output_type": "error",
          "traceback": [
            "\u001b[1;31m---------------------------------------------------------------------------\u001b[0m",
            "\u001b[1;31mKeyboardInterrupt\u001b[0m                         Traceback (most recent call last)",
            "\u001b[1;32mc:\\Users\\deepk\\OneDrive\\Documents\\College\\6th Year\\CSCE 580\\CSCE580-Fall2023-DeepPatel-Repo\\code\\chatbot.ipynb Cell 1\u001b[0m line \u001b[0;36m3\n\u001b[0;32m     <a href='vscode-notebook-cell:/c%3A/Users/deepk/OneDrive/Documents/College/6th%20Year/CSCE%20580/CSCE580-Fall2023-DeepPatel-Repo/code/chatbot.ipynb#W0sZmlsZQ%3D%3D?line=28'>29</a>\u001b[0m image_path \u001b[39m=\u001b[39m \u001b[39minput\u001b[39m(\u001b[39m\"\u001b[39m\u001b[39mChatbot: Please enter the path to your directory containing the train and test data\u001b[39m\u001b[39m\"\u001b[39m)\n\u001b[0;32m     <a href='vscode-notebook-cell:/c%3A/Users/deepk/OneDrive/Documents/College/6th%20Year/CSCE%20580/CSCE580-Fall2023-DeepPatel-Repo/code/chatbot.ipynb#W0sZmlsZQ%3D%3D?line=29'>30</a>\u001b[0m \u001b[39mtry\u001b[39;00m:\n\u001b[1;32m---> <a href='vscode-notebook-cell:/c%3A/Users/deepk/OneDrive/Documents/College/6th%20Year/CSCE%20580/CSCE580-Fall2023-DeepPatel-Repo/code/chatbot.ipynb#W0sZmlsZQ%3D%3D?line=30'>31</a>\u001b[0m     result \u001b[39m=\u001b[39m subprocess\u001b[39m.\u001b[39;49mrun([\u001b[39m'\u001b[39;49m\u001b[39mpython\u001b[39;49m\u001b[39m'\u001b[39;49m, \u001b[39m'\u001b[39;49m\u001b[39mkeras-classification-script.py\u001b[39;49m\u001b[39m'\u001b[39;49m, image_path], capture_output\u001b[39m=\u001b[39;49m\u001b[39mTrue\u001b[39;49;00m, text\u001b[39m=\u001b[39;49m\u001b[39mTrue\u001b[39;49;00m)\n\u001b[0;32m     <a href='vscode-notebook-cell:/c%3A/Users/deepk/OneDrive/Documents/College/6th%20Year/CSCE%20580/CSCE580-Fall2023-DeepPatel-Repo/code/chatbot.ipynb#W0sZmlsZQ%3D%3D?line=31'>32</a>\u001b[0m     conversation_file\u001b[39m.\u001b[39mwrite(\u001b[39mf\u001b[39m\u001b[39m\"\u001b[39m\u001b[39mChatbot: \u001b[39m\u001b[39m{\u001b[39;00mresult\u001b[39m.\u001b[39mstdout\u001b[39m}\u001b[39;00m\u001b[39m\"\u001b[39m)\n\u001b[0;32m     <a href='vscode-notebook-cell:/c%3A/Users/deepk/OneDrive/Documents/College/6th%20Year/CSCE%20580/CSCE580-Fall2023-DeepPatel-Repo/code/chatbot.ipynb#W0sZmlsZQ%3D%3D?line=32'>33</a>\u001b[0m     \u001b[39mprint\u001b[39m(\u001b[39m\"\u001b[39m\u001b[39mChatbot:\u001b[39m\u001b[39m\"\u001b[39m)\n",
            "File \u001b[1;32mC:\\Program Files\\WindowsApps\\PythonSoftwareFoundation.Python.3.11_3.11.1776.0_x64__qbz5n2kfra8p0\\Lib\\subprocess.py:550\u001b[0m, in \u001b[0;36mrun\u001b[1;34m(input, capture_output, timeout, check, *popenargs, **kwargs)\u001b[0m\n\u001b[0;32m    548\u001b[0m \u001b[39mwith\u001b[39;00m Popen(\u001b[39m*\u001b[39mpopenargs, \u001b[39m*\u001b[39m\u001b[39m*\u001b[39mkwargs) \u001b[39mas\u001b[39;00m process:\n\u001b[0;32m    549\u001b[0m     \u001b[39mtry\u001b[39;00m:\n\u001b[1;32m--> 550\u001b[0m         stdout, stderr \u001b[39m=\u001b[39m process\u001b[39m.\u001b[39;49mcommunicate(\u001b[39minput\u001b[39;49m, timeout\u001b[39m=\u001b[39;49mtimeout)\n\u001b[0;32m    551\u001b[0m     \u001b[39mexcept\u001b[39;00m TimeoutExpired \u001b[39mas\u001b[39;00m exc:\n\u001b[0;32m    552\u001b[0m         process\u001b[39m.\u001b[39mkill()\n",
            "File \u001b[1;32mC:\\Program Files\\WindowsApps\\PythonSoftwareFoundation.Python.3.11_3.11.1776.0_x64__qbz5n2kfra8p0\\Lib\\subprocess.py:1209\u001b[0m, in \u001b[0;36mPopen.communicate\u001b[1;34m(self, input, timeout)\u001b[0m\n\u001b[0;32m   1206\u001b[0m     endtime \u001b[39m=\u001b[39m \u001b[39mNone\u001b[39;00m\n\u001b[0;32m   1208\u001b[0m \u001b[39mtry\u001b[39;00m:\n\u001b[1;32m-> 1209\u001b[0m     stdout, stderr \u001b[39m=\u001b[39m \u001b[39mself\u001b[39;49m\u001b[39m.\u001b[39;49m_communicate(\u001b[39minput\u001b[39;49m, endtime, timeout)\n\u001b[0;32m   1210\u001b[0m \u001b[39mexcept\u001b[39;00m \u001b[39mKeyboardInterrupt\u001b[39;00m:\n\u001b[0;32m   1211\u001b[0m     \u001b[39m# https://bugs.python.org/issue25942\u001b[39;00m\n\u001b[0;32m   1212\u001b[0m     \u001b[39m# See the detailed comment in .wait().\u001b[39;00m\n\u001b[0;32m   1213\u001b[0m     \u001b[39mif\u001b[39;00m timeout \u001b[39mis\u001b[39;00m \u001b[39mnot\u001b[39;00m \u001b[39mNone\u001b[39;00m:\n",
            "File \u001b[1;32mC:\\Program Files\\WindowsApps\\PythonSoftwareFoundation.Python.3.11_3.11.1776.0_x64__qbz5n2kfra8p0\\Lib\\subprocess.py:1626\u001b[0m, in \u001b[0;36mPopen._communicate\u001b[1;34m(self, input, endtime, orig_timeout)\u001b[0m\n\u001b[0;32m   1622\u001b[0m \u001b[39m# Wait for the reader threads, or time out.  If we time out, the\u001b[39;00m\n\u001b[0;32m   1623\u001b[0m \u001b[39m# threads remain reading and the fds left open in case the user\u001b[39;00m\n\u001b[0;32m   1624\u001b[0m \u001b[39m# calls communicate again.\u001b[39;00m\n\u001b[0;32m   1625\u001b[0m \u001b[39mif\u001b[39;00m \u001b[39mself\u001b[39m\u001b[39m.\u001b[39mstdout \u001b[39mis\u001b[39;00m \u001b[39mnot\u001b[39;00m \u001b[39mNone\u001b[39;00m:\n\u001b[1;32m-> 1626\u001b[0m     \u001b[39mself\u001b[39;49m\u001b[39m.\u001b[39;49mstdout_thread\u001b[39m.\u001b[39;49mjoin(\u001b[39mself\u001b[39;49m\u001b[39m.\u001b[39;49m_remaining_time(endtime))\n\u001b[0;32m   1627\u001b[0m     \u001b[39mif\u001b[39;00m \u001b[39mself\u001b[39m\u001b[39m.\u001b[39mstdout_thread\u001b[39m.\u001b[39mis_alive():\n\u001b[0;32m   1628\u001b[0m         \u001b[39mraise\u001b[39;00m TimeoutExpired(\u001b[39mself\u001b[39m\u001b[39m.\u001b[39margs, orig_timeout)\n",
            "File \u001b[1;32mC:\\Program Files\\WindowsApps\\PythonSoftwareFoundation.Python.3.11_3.11.1776.0_x64__qbz5n2kfra8p0\\Lib\\threading.py:1119\u001b[0m, in \u001b[0;36mThread.join\u001b[1;34m(self, timeout)\u001b[0m\n\u001b[0;32m   1116\u001b[0m     \u001b[39mraise\u001b[39;00m \u001b[39mRuntimeError\u001b[39;00m(\u001b[39m\"\u001b[39m\u001b[39mcannot join current thread\u001b[39m\u001b[39m\"\u001b[39m)\n\u001b[0;32m   1118\u001b[0m \u001b[39mif\u001b[39;00m timeout \u001b[39mis\u001b[39;00m \u001b[39mNone\u001b[39;00m:\n\u001b[1;32m-> 1119\u001b[0m     \u001b[39mself\u001b[39;49m\u001b[39m.\u001b[39;49m_wait_for_tstate_lock()\n\u001b[0;32m   1120\u001b[0m \u001b[39melse\u001b[39;00m:\n\u001b[0;32m   1121\u001b[0m     \u001b[39m# the behavior of a negative timeout isn't documented, but\u001b[39;00m\n\u001b[0;32m   1122\u001b[0m     \u001b[39m# historically .join(timeout=x) for x<0 has acted as if timeout=0\u001b[39;00m\n\u001b[0;32m   1123\u001b[0m     \u001b[39mself\u001b[39m\u001b[39m.\u001b[39m_wait_for_tstate_lock(timeout\u001b[39m=\u001b[39m\u001b[39mmax\u001b[39m(timeout, \u001b[39m0\u001b[39m))\n",
            "File \u001b[1;32mC:\\Program Files\\WindowsApps\\PythonSoftwareFoundation.Python.3.11_3.11.1776.0_x64__qbz5n2kfra8p0\\Lib\\threading.py:1139\u001b[0m, in \u001b[0;36mThread._wait_for_tstate_lock\u001b[1;34m(self, block, timeout)\u001b[0m\n\u001b[0;32m   1136\u001b[0m     \u001b[39mreturn\u001b[39;00m\n\u001b[0;32m   1138\u001b[0m \u001b[39mtry\u001b[39;00m:\n\u001b[1;32m-> 1139\u001b[0m     \u001b[39mif\u001b[39;00m lock\u001b[39m.\u001b[39;49macquire(block, timeout):\n\u001b[0;32m   1140\u001b[0m         lock\u001b[39m.\u001b[39mrelease()\n\u001b[0;32m   1141\u001b[0m         \u001b[39mself\u001b[39m\u001b[39m.\u001b[39m_stop()\n",
            "\u001b[1;31mKeyboardInterrupt\u001b[0m: "
          ]
        }
      ],
      "source": [
        "import subprocess\n",
        "from PIL import Image\n",
        "import io\n",
        "import numpy as np\n",
        "\n",
        "# Function to load specific responses from chitchat.txt\n",
        "def load_specific_responses(file_path):\n",
        "    specific_responses = {}\n",
        "    with open(file_path, 'r') as file:\n",
        "        for line in file:\n",
        "            query, response = line.strip().split('|')\n",
        "            specific_responses[query.lower()] = response\n",
        "    return specific_responses\n",
        "\n",
        "# Load specific responses from chitchat.txt\n",
        "specific_responses = load_specific_responses(\"chitchat.txt\")\n",
        "\n",
        "# Open conversation.txt which stores conversation (file is wiped before next run, replace \"w\" with \"a\" to append)\n",
        "conversation_file = open(\"conversation.txt\", \"w\")\n",
        "\n",
        "# Main chatbot loop\n",
        "while True:\n",
        "    user_input = input(\"You: \").lower()\n",
        "    # Keras model\n",
        "    if user_input.lower() == \"keras\":\n",
        "        print(f\"You: {user_input}\")\n",
        "        conversation_file.write(f\"You: {user_input}\\n\")\n",
        "        # Ask the user to enter directory\n",
        "        image_path = input(\"Chatbot: Please enter the path to your directory containing the train and test data\")\n",
        "        try:\n",
        "            result = subprocess.run(['python', 'keras-classification-script.py', image_path], capture_output=True, text=True)\n",
        "            conversation_file.write(f\"Chatbot: {result.stdout}\")\n",
        "            print(\"Chatbot:\")\n",
        "            print(result.stdout)\n",
        "\n",
        "        except FileNotFoundError:\n",
        "            print(\"Chatbot: Error executing program. File not found.\")\n",
        "        except Exception as e:\n",
        "            print(f\"Chatbot: Error processing image - {str(e)}\")\n",
        "    # PyTorch model\n",
        "    elif user_input.lower() == \"pytorch\":\n",
        "        print(f\"You: {user_input}\")\n",
        "        conversation_file.write(f\"You: {user_input}\\n\")\n",
        "\n",
        "        # Ask the user to enter directory\n",
        "        image_path = input(\"Chatbot: Please enter the path to your directory containing the train and test data\")\n",
        "        try:\n",
        "            result = subprocess.run(['python', 'pytorch-classification-script.py', image_path], capture_output=True, text=True)\n",
        "            conversation_file.write(f\"Chatbot: {result.stdout}\")\n",
        "            print(\"Chatbot:\")\n",
        "            print(result.stdout)\n",
        "\n",
        "        except FileNotFoundError:\n",
        "            print(\"Chatbot: Error executing program. File not found.\")\n",
        "        except Exception as e:\n",
        "            print(f\"Chatbot: Error processing image - {str(e)}\")\n",
        "\n",
        "    elif user_input.lower() in specific_responses:\n",
        "        print(f\"You: {user_input}\")\n",
        "        print(f\"Chatbot: {specific_responses[user_input]}\")\n",
        "        # Write conversation to conversation.txt\n",
        "        conversation_file.write(f\"You: {user_input}\\n\")\n",
        "        conversation_file.write(f\"Chatbot: {specific_responses[user_input]}\\n\")\n",
        "        # Quit\n",
        "        if user_input in [\"q\", \"quit\"]:\n",
        "            break\n",
        "    else:\n",
        "        print(\"Chatbot: I do not know that information.\")\n",
        "\n",
        "# Close conversation file\n",
        "conversation_file.close()\n"
      ]
    }
  ],
  "metadata": {
    "kernelspec": {
      "display_name": "Python 3",
      "language": "python",
      "name": "python3"
    },
    "language_info": {
      "codemirror_mode": {
        "name": "ipython",
        "version": 3
      },
      "file_extension": ".py",
      "mimetype": "text/x-python",
      "name": "python",
      "nbconvert_exporter": "python",
      "pygments_lexer": "ipython3",
      "version": "3.11.6"
    }
  },
  "nbformat": 4,
  "nbformat_minor": 5
}
