{
  "cells": [
    {
      "cell_type": "code",
      "execution_count": 7,
      "id": "b947f953-6f41-4bca-a5f7-96471f149e39",
      "metadata": {},
      "outputs": [
        {
          "name": "stdout",
          "output_type": "stream",
          "text": [
            "You: hi\n",
            "Chatbot: Hello.\n",
            "You: hi\n",
            "Chatbot: Hello.\n",
            "Program Output:\n",
            "Found 769 images belonging to 2 classes.\n",
            "Found 192 images belonging to 2 classes.\n",
            "\n",
            "1/6 [====>.........................] - ETA: 13s - loss: 0.0129 - accuracy: 1.0000\n",
            "2/6 [=========>....................] - ETA: 9s - loss: 0.0239 - accuracy: 1.0000 \n",
            "3/6 [==============>...............] - ETA: 6s - loss: 0.0189 - accuracy: 1.0000\n",
            "4/6 [===================>..........] - ETA: 4s - loss: 0.0292 - accuracy: 0.9922\n",
            "5/6 [========================>.....] - ETA: 2s - loss: 0.0254 - accuracy: 0.9937\n",
            "6/6 [==============================] - ETA: 0s - loss: 0.0246 - accuracy: 0.9948\n",
            "6/6 [==============================] - 14s 2s/step - loss: 0.0246 - accuracy: 0.9948\n",
            "Test Accuracy: 0.9947916865348816\n",
            "\n",
            "You: hi\n",
            "Chatbot: Hello.\n",
            "You: q\n",
            "Chatbot: Goodbye!\n"
          ]
        }
      ],
      "source": [
        "import subprocess\n",
        "\n",
        "# Function to load specific responses from chitchat.txt\n",
        "def load_specific_responses(file_path):\n",
        "    specific_responses = {}\n",
        "    with open(file_path, 'r') as file:\n",
        "        for line in file:\n",
        "            query, response = line.strip().split('|')\n",
        "            specific_responses[query.lower()] = response\n",
        "    return specific_responses\n",
        "\n",
        "# Load specific responses from chitchat.txt\n",
        "specific_responses = load_specific_responses(\"chitchat.txt\")\n",
        "\n",
        "# Open conversation.txt which stores conversation (file is wiped before next run, replace \"w\" with \"a\" to append)\n",
        "conversation_file = open(\"conversation.txt\", \"w\")\n",
        "\n",
        "# Main chatbot loop\n",
        "while True:\n",
        "    user_input = input(\"You: \").lower()\n",
        "\n",
        "    if user_input == \"execute\":\n",
        "        print(f\"You: {user_input}\")\n",
        "        conversation_file.write(f\"You: {user_input}\\n\")\n",
        "        try:\n",
        "            result = subprocess.run(['python', 'keras-classification-script.py'], capture_output=True, text=True)\n",
        "            print(\"Program Output:\")\n",
        "            print(result.stdout)\n",
        "        except FileNotFoundError:\n",
        "            print(\"Chatbot: Error executing program. File not found.\")\n",
        "    elif user_input in specific_responses:\n",
        "        print(f\"You: {user_input}\")\n",
        "        print(f\"Chatbot: {specific_responses[user_input]}\")\n",
        "        # Write conversation to conversation.txt\n",
        "        conversation_file.write(f\"You: {user_input}\\n\")\n",
        "        conversation_file.write(f\"Chatbot: {specific_responses[user_input]}\\n\")\n",
        "        # Quit\n",
        "        if user_input in [\"q\", \"quit\"]:\n",
        "            break\n",
        "    else:\n",
        "        print(\"Chatbot: I do not know that information.\")\n",
        "\n",
        "# Close conversation file\n",
        "conversation_file.close()\n"
      ]
    }
  ],
  "metadata": {
    "kernelspec": {
      "display_name": "Python 3",
      "language": "python",
      "name": "python3"
    },
    "language_info": {
      "codemirror_mode": {
        "name": "ipython",
        "version": 3
      },
      "file_extension": ".py",
      "mimetype": "text/x-python",
      "name": "python",
      "nbconvert_exporter": "python",
      "pygments_lexer": "ipython3",
      "version": "3.11.6"
    }
  },
  "nbformat": 4,
  "nbformat_minor": 5
}
