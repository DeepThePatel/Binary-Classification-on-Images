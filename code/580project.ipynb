{
 "cells": [
  {
   "cell_type": "code",
   "execution_count": null,
   "metadata": {},
   "outputs": [],
   "source": [
    "## Install Tensorflow\n",
    "%pip install tensorflow"
   ]
  },
  {
   "cell_type": "code",
   "execution_count": 12,
   "metadata": {},
   "outputs": [],
   "source": [
    "# Imports\n",
    "from tensorflow.keras.preprocessing.image import ImageDataGenerator\n",
    "from tensorflow.keras.models import Sequential\n",
    "from tensorflow.keras.layers import Conv2D, MaxPooling2D, Flatten, Dense"
   ]
  },
  {
   "cell_type": "code",
   "execution_count": 6,
   "metadata": {},
   "outputs": [],
   "source": [
    "# Data Paths\n",
    "train_data_dir = '../data/pepsico_dataset/Train/'\n",
    "test_data_dir = '../data/pepsico_dataset/Test/'"
   ]
  },
  {
   "cell_type": "code",
   "execution_count": 7,
   "metadata": {},
   "outputs": [],
   "source": [
    "batch_size = 32 # Set batch size\n",
    "image_size = (250, 250)  # Set image size"
   ]
  },
  {
   "cell_type": "code",
   "execution_count": 8,
   "metadata": {},
   "outputs": [],
   "source": [
    "# Creating data generators for test and train\n",
    "train_datagen = ImageDataGenerator(rescale=1.0/255.0)\n",
    "test_datagen = ImageDataGenerator(rescale=1.0/255.0)"
   ]
  },
  {
   "cell_type": "code",
   "execution_count": 9,
   "metadata": {},
   "outputs": [
    {
     "name": "stdout",
     "output_type": "stream",
     "text": [
      "Found 769 images belonging to 2 classes.\n",
      "Found 192 images belonging to 2 classes.\n"
     ]
    }
   ],
   "source": [
    "# Setting train/test generators for binary classification\n",
    "train_generator = train_datagen.flow_from_directory(\n",
    "    train_data_dir,\n",
    "    target_size=image_size,\n",
    "    batch_size=batch_size,\n",
    "    class_mode='binary',\n",
    ")\n",
    "\n",
    "test_generator = test_datagen.flow_from_directory(\n",
    "    test_data_dir,\n",
    "    target_size=image_size,\n",
    "    batch_size=batch_size,\n",
    "    class_mode='binary',\n",
    ")"
   ]
  },
  {
   "cell_type": "code",
   "execution_count": 15,
   "metadata": {},
   "outputs": [],
   "source": [
    "# Sequential model architecture\n",
    "model = Sequential() # Create sequential model\n",
    "model.add(Conv2D(32, (3, 3), input_shape=(250, 250, 3), activation='relu'))\n",
    "model.add(MaxPooling2D((2, 2)))\n",
    "model.add(Conv2D(64, (3, 3), activation='relu'))\n",
    "model.add(MaxPooling2D((2, 2)))\n",
    "model.add(Conv2D(128, (3, 3), activation='relu'))\n",
    "model.add(MaxPooling2D((2, 2)))\n",
    "model.add(Flatten())\n",
    "model.add(Dense(128, activation='relu'))\n",
    "model.add(Dense(1, activation='sigmoid'))  # Output layer for binary classification\n",
    "\n",
    "model.compile(optimizer='adam', loss='binary_crossentropy', metrics=['accuracy'])"
   ]
  },
  {
   "cell_type": "code",
   "execution_count": 16,
   "metadata": {},
   "outputs": [
    {
     "name": "stdout",
     "output_type": "stream",
     "text": [
      "Epoch 1/10\n",
      "25/25 [==============================] - 96s 4s/step - loss: 0.8403 - accuracy: 0.6229 - val_loss: 0.4654 - val_accuracy: 0.7969\n",
      "Epoch 2/10\n",
      "25/25 [==============================] - 81s 3s/step - loss: 0.2280 - accuracy: 0.9441 - val_loss: 0.1603 - val_accuracy: 0.9688\n",
      "Epoch 3/10\n",
      "25/25 [==============================] - 80s 3s/step - loss: 0.0306 - accuracy: 0.9935 - val_loss: 0.0292 - val_accuracy: 0.9844\n",
      "Epoch 4/10\n",
      "25/25 [==============================] - 81s 3s/step - loss: 0.0456 - accuracy: 0.9870 - val_loss: 0.0815 - val_accuracy: 0.9740\n",
      "Epoch 5/10\n",
      "25/25 [==============================] - 80s 3s/step - loss: 0.0421 - accuracy: 0.9922 - val_loss: 0.2281 - val_accuracy: 0.9479\n",
      "Epoch 6/10\n",
      "25/25 [==============================] - 79s 3s/step - loss: 0.0615 - accuracy: 0.9883 - val_loss: 0.0162 - val_accuracy: 0.9948\n",
      "Epoch 7/10\n",
      "25/25 [==============================] - 80s 3s/step - loss: 0.0841 - accuracy: 0.9792 - val_loss: 0.1018 - val_accuracy: 0.9740\n",
      "Epoch 8/10\n",
      "25/25 [==============================] - 81s 3s/step - loss: 0.0209 - accuracy: 0.9961 - val_loss: 0.0049 - val_accuracy: 0.9948\n",
      "Epoch 9/10\n",
      "25/25 [==============================] - 170s 7s/step - loss: 0.0303 - accuracy: 0.9961 - val_loss: 0.2019 - val_accuracy: 0.9635\n",
      "Epoch 10/10\n",
      "25/25 [==============================] - 81s 3s/step - loss: 0.0274 - accuracy: 0.9948 - val_loss: 0.0767 - val_accuracy: 0.9844\n"
     ]
    }
   ],
   "source": [
    "# Training the model\n",
    "trained = model.fit(\n",
    "    train_generator,\n",
    "    steps_per_epoch=len(train_generator),\n",
    "    epochs=10,  # You can adjust the number of epochs\n",
    "    validation_data=test_generator,\n",
    "    validation_steps=len(test_generator)\n",
    ")"
   ]
  },
  {
   "cell_type": "code",
   "execution_count": 17,
   "metadata": {},
   "outputs": [
    {
     "name": "stdout",
     "output_type": "stream",
     "text": [
      "6/6 [==============================] - 14s 2s/step - loss: 0.0767 - accuracy: 0.9844\n",
      "Test Accuracy: 0.984375\n"
     ]
    }
   ],
   "source": [
    "# Results\n",
    "test_loss, test_accuracy = model.evaluate(test_generator, steps=len(test_generator))\n",
    "print(f\"Test Accuracy: {test_accuracy}\")"
   ]
  }
 ],
 "metadata": {
  "kernelspec": {
   "display_name": "Python 3",
   "language": "python",
   "name": "python3"
  },
  "language_info": {
   "codemirror_mode": {
    "name": "ipython",
    "version": 3
   },
   "file_extension": ".py",
   "mimetype": "text/x-python",
   "name": "python",
   "nbconvert_exporter": "python",
   "pygments_lexer": "ipython3",
   "version": "3.11.6"
  }
 },
 "nbformat": 4,
 "nbformat_minor": 2
}
