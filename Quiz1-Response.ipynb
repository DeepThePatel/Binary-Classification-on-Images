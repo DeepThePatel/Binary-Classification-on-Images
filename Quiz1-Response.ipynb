{
  "cells": [
    {
      "cell_type": "code",
      "execution_count": 10,
      "metadata": {
        "trusted": true
      },
      "outputs": [
        {
          "name": "stdout",
          "output_type": "stream",
          "text": [
            "BFS: [10, 20, 30, 40]\n",
            "DFS: [10, 20, 30, 40]\n",
            "Execution time: 0.0009984970092773438 seconds\n"
          ]
        }
      ],
      "source": [
        "import time\n",
        "\n",
        "start_time = time.time()\n",
        "\n",
        "from collections import deque\n",
        "\n",
        "#checking if the array is sorted or not\n",
        "def is_sorted(arr):\n",
        "    return all(arr[i] <= arr[i+1] for i in range(len(arr)-1))\n",
        "\n",
        "# BFS\n",
        "def k_sort_bfs(arr):\n",
        "    if is_sorted(arr):\n",
        "        return arr\n",
        "\n",
        "    visited = set()\n",
        "    queue = deque([arr])\n",
        "\n",
        "    while queue:\n",
        "        current_state = queue.popleft()\n",
        "        if is_sorted(current_state):\n",
        "            return current_state\n",
        "\n",
        "        for i in range(len(current_state) - 1):\n",
        "            new_state = current_state[:]\n",
        "            new_state[i], new_state[i+1] = new_state[i+1], new_state[i]\n",
        "            if tuple(new_state) not in visited:\n",
        "                visited.add(tuple(new_state))\n",
        "                queue.append(new_state)\n",
        "\n",
        "#DFS\n",
        "def k_sort_dfs(arr):\n",
        "    def dfs(current_state):\n",
        "        if is_sorted(current_state):\n",
        "            return current_state\n",
        "\n",
        "        for i in range(len(current_state) - 1):\n",
        "            new_state = current_state[:]\n",
        "            new_state[i], new_state[i+1] = new_state[i+1], new_state[i]\n",
        "            if tuple(new_state) not in visited:\n",
        "                visited.add(tuple(new_state))\n",
        "                result = dfs(new_state)\n",
        "                if result is not None:\n",
        "                    return result\n",
        "\n",
        "    if is_sorted(arr):\n",
        "        return arr\n",
        "\n",
        "    visited = set()\n",
        "    return dfs(arr)\n",
        "\n",
        "k = [10, 20, 40, 30]\n",
        "\n",
        "#print\n",
        "bfs_result = k_sort_bfs(k)\n",
        "print(\"BFS:\", bfs_result)\n",
        "\n",
        "dfs_result = k_sort_dfs(k)\n",
        "print(\"DFS:\", dfs_result)\n",
        "\n",
        "# Record the end time\n",
        "end_time = time.time()\n",
        "\n",
        "# Calculate the elapsed time\n",
        "elapsed_time = end_time - start_time\n",
        "\n",
        "# Display the elapsed time\n",
        "print(f\"Execution time: {elapsed_time} seconds\")\n",
        "\n",
        " "
      ]
    },
    {
      "cell_type": "code",
      "execution_count": 15,
      "metadata": {
        "trusted": true
      },
      "outputs": [
        {
          "name": "stdout",
          "output_type": "stream",
          "text": [
            "[10, 20, 30, 40]\n",
            "Execution time: 0.0009996891021728516 seconds\n"
          ]
        }
      ],
      "source": [
        "import time\n",
        "\n",
        "# Record the start time\n",
        "start_time = time.time()\n",
        "\n",
        "# importing Library\n",
        "\n",
        "from sorting_techniques import pysort\n",
        "\n",
        "# Creating the Sort Object\n",
        "sortObj = pysort.Sorting()\n",
        "\n",
        "myList = [10,20,30,40]\n",
        "\n",
        "# Genearting the Sort Result \n",
        "sortResult = sortObj.bubbleSort(myList)\n",
        "\n",
        "# The SortResult contains the Sorted List\n",
        "\n",
        "print(sortResult)\n",
        "\n",
        "# Record the end time\n",
        "end_time = time.time()\n",
        "\n",
        "# Calculate the elapsed time\n",
        "elapsed_time = end_time - start_time\n",
        "\n",
        "# Display the elapsed time\n",
        "print(f\"Execution time: {elapsed_time} seconds\")\n"
      ]
    },
    {
      "cell_type": "code",
      "execution_count": null,
      "metadata": {},
      "outputs": [],
      "source": []
    }
  ],
  "metadata": {
    "kernelspec": {
      "display_name": "Python 3",
      "language": "python",
      "name": "python3"
    },
    "language_info": {
      "codemirror_mode": {
        "name": "ipython",
        "version": 3
      },
      "file_extension": ".py",
      "mimetype": "text/x-python",
      "name": "python",
      "nbconvert_exporter": "python",
      "pygments_lexer": "ipython3",
      "version": "3.11.5"
    }
  },
  "nbformat": 4,
  "nbformat_minor": 4
}
