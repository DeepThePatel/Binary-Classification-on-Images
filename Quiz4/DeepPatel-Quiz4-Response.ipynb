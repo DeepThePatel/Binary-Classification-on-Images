{
 "cells": [
  {
   "cell_type": "code",
   "execution_count": 1,
   "metadata": {},
   "outputs": [],
   "source": [
    "# Imports\n",
    "import pandas as pd"
   ]
  },
  {
   "cell_type": "code",
   "execution_count": 7,
   "metadata": {},
   "outputs": [],
   "source": [
    "# Loading CSV files\n",
    "salesData = pd.read_csv('../Quiz4/Quiz4-data/sales_data.csv')\n",
    "customerData = pd.read_csv('../Quiz4/Quiz4-data/customer_data.csv')"
   ]
  },
  {
   "cell_type": "code",
   "execution_count": 18,
   "metadata": {},
   "outputs": [
    {
     "name": "stdout",
     "output_type": "stream",
     "text": [
      "Domains of Sales Data:\n",
      "invoice_no          I138884\n",
      "customer_id         C241288\n",
      "category           Clothing\n",
      "quantity                  5\n",
      "price                1500.4\n",
      "invoice_date     05-08-2022\n",
      "shopping_mall        Kanyon\n",
      "Name: 0, dtype: object\n",
      "\n",
      "\n",
      "Domains of Customer Data:\n",
      "customer_id           C241288\n",
      "gender                 Female\n",
      "age                      28.0\n",
      "payment_method    Credit Card\n",
      "Name: 0, dtype: object\n",
      "\n",
      "\n",
      "Number of Sales Rows: 99457\n",
      "Number of Sales Features: 7\n",
      "\n",
      "\n",
      "Number of Customer Rows: 99457\n",
      "Number of Customer Features: 4\n"
     ]
    }
   ],
   "source": [
    "# Data Statistics\n",
    "rows, columns = salesData.shape\n",
    "rows2, columns2 = customerData.shape\n",
    "salesDomains = salesData.iloc[0]\n",
    "customerDomains = customerData.iloc[0]\n",
    "\n",
    "print(\"Domains of Sales Data:\")\n",
    "print(salesDomains)\n",
    "print(\"\\n\")\n",
    "print(\"Domains of Customer Data:\")\n",
    "print(customerDomains)\n",
    "print(\"\\n\")\n",
    "print(f\"Number of Sales Rows: {rows}\")\n",
    "print(f\"Number of Sales Features: {columns}\")\n",
    "print(\"\\n\")\n",
    "print(f\"Number of Customer Rows: {rows2}\")\n",
    "print(f\"Number of Customer Features: {columns2}\")"
   ]
  },
  {
   "cell_type": "code",
   "execution_count": 5,
   "metadata": {},
   "outputs": [
    {
     "name": "stdout",
     "output_type": "stream",
     "text": [
      "Sales Missing Values: \n",
      "invoice_no       0\n",
      "customer_id      0\n",
      "category         0\n",
      "quantity         0\n",
      "price            0\n",
      "invoice_date     0\n",
      "shopping_mall    0\n",
      "dtype: int64\n",
      "\n",
      "\n",
      "Customers Missing Values: \n",
      "customer_id         0\n",
      "gender              0\n",
      "age               119\n",
      "payment_method      0\n",
      "dtype: int64\n",
      "\n",
      "\n"
     ]
    }
   ],
   "source": [
    "# 1. Missing data\n",
    "salesMissingData = salesData.isnull().sum()\n",
    "customerMissingData = customerData.isnull().sum()\n",
    "\n",
    "missing_data = pd.DataFrame({\n",
    "    'Sales Missing Data': salesMissingData,\n",
    "    'Customers Missing Data': customerMissingData\n",
    "})\n",
    "\n",
    "print(\"Sales Missing Values: \")\n",
    "print(salesMissingData)\n",
    "print(\"\\n\")\n",
    "print(\"Customers Missing Values: \")\n",
    "print(customerMissingData)\n",
    "print(\"\\n\")"
   ]
  },
  {
   "cell_type": "code",
   "execution_count": 20,
   "metadata": {},
   "outputs": [
    {
     "name": "stdout",
     "output_type": "stream",
     "text": [
      "Number of Unique Items: 8\n",
      "Most common item is 'Clothing' with 34487 items bought\n"
     ]
    }
   ],
   "source": [
    "# 2. Unique Products and the product with the most bought\n",
    "category = 'category'\n",
    "unique_items_count = salesData[category].value_counts()\n",
    "largest_items = unique_items_count.idxmax()\n",
    "\n",
    "print(f\"Number of Unique Items: {len(unique_items_count)}\")\n",
    "print(f\"Most common item is '{largest_items}' with {unique_items_count[largest_items]} items bought\")"
   ]
  }
 ],
 "metadata": {
  "kernelspec": {
   "display_name": "Python 3",
   "language": "python",
   "name": "python3"
  },
  "language_info": {
   "codemirror_mode": {
    "name": "ipython",
    "version": 3
   },
   "file_extension": ".py",
   "mimetype": "text/x-python",
   "name": "python",
   "nbconvert_exporter": "python",
   "pygments_lexer": "ipython3",
   "version": "3.11.6"
  }
 },
 "nbformat": 4,
 "nbformat_minor": 2
}
