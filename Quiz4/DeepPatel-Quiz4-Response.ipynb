{
 "cells": [
  {
   "cell_type": "code",
   "execution_count": 24,
   "metadata": {},
   "outputs": [],
   "source": [
    "# Imports\n",
    "import pandas as pd\n",
    "import warnings\n",
    "import tensorflow as tf\n",
    "from tensorflow.keras import datasets, layers, models\n",
    "import matplotlib.pyplot as plt\n",
    "\n",
    "# Filter warnings\n",
    "warnings.simplefilter(\"ignore\")"
   ]
  },
  {
   "cell_type": "code",
   "execution_count": 15,
   "metadata": {},
   "outputs": [],
   "source": [
    "# Loading CSV files\n",
    "salesData = pd.read_csv('../Quiz4/Quiz4-data/sales_data.csv')\n",
    "customerData = pd.read_csv('../Quiz4/Quiz4-data/customer_data.csv')"
   ]
  },
  {
   "cell_type": "code",
   "execution_count": null,
   "metadata": {},
   "outputs": [],
   "source": [
    "# -------------QUESTION 1---------------"
   ]
  },
  {
   "cell_type": "code",
   "execution_count": 17,
   "metadata": {},
   "outputs": [
    {
     "name": "stdout",
     "output_type": "stream",
     "text": [
      "Domains of Sales Data:\n",
      "invoice_no          I138884\n",
      "customer_id         C241288\n",
      "category           Clothing\n",
      "quantity                  5\n",
      "price                1500.4\n",
      "invoice_date     05-08-2022\n",
      "shopping_mall        Kanyon\n",
      "Name: 0, dtype: object\n",
      "\n",
      "\n",
      "Domains of Customer Data:\n",
      "customer_id           C241288\n",
      "gender                 Female\n",
      "age                      28.0\n",
      "payment_method    Credit Card\n",
      "Name: 0, dtype: object\n",
      "\n",
      "\n",
      "Number of Sales Rows: 99457\n",
      "Number of Sales Features: 7\n",
      "\n",
      "\n",
      "Number of Customer Rows: 99457\n",
      "Number of Customer Features: 4\n"
     ]
    }
   ],
   "source": [
    "# (Q1A) Data Statistics\n",
    "## First row of data is also printed\n",
    "salesRows, salesColumns = salesData.shape\n",
    "customerRows, customerColumns = customerData.shape\n",
    "salesDomains = salesData.iloc[0]\n",
    "customerDomains = customerData.iloc[0]\n",
    "\n",
    "print(\"Domains of Sales Data:\")\n",
    "print(salesDomains)\n",
    "print(\"\\n\")\n",
    "print(\"Domains of Customer Data:\")\n",
    "print(customerDomains)\n",
    "print(\"\\n\")\n",
    "print(f\"Number of Sales Rows: {salesRows}\")\n",
    "print(f\"Number of Sales Features: {salesColumns}\")\n",
    "print(\"\\n\")\n",
    "print(f\"Number of Customer Rows: {customerRows}\")\n",
    "print(f\"Number of Customer Features: {customerColumns}\")"
   ]
  },
  {
   "cell_type": "code",
   "execution_count": 18,
   "metadata": {},
   "outputs": [
    {
     "name": "stdout",
     "output_type": "stream",
     "text": [
      "Sales Missing Values: \n",
      "invoice_no       0\n",
      "customer_id      0\n",
      "category         0\n",
      "quantity         0\n",
      "price            0\n",
      "invoice_date     0\n",
      "shopping_mall    0\n",
      "dtype: int64\n",
      "\n",
      "\n",
      "Customers Missing Values: \n",
      "customer_id         0\n",
      "gender              0\n",
      "age               119\n",
      "payment_method      0\n",
      "dtype: int64\n",
      "\n",
      "\n"
     ]
    }
   ],
   "source": [
    "# (Q1B) 1. Missing data\n",
    "salesMissingData = salesData.isnull().sum()\n",
    "customerMissingData = customerData.isnull().sum()\n",
    "\n",
    "missing_data = pd.DataFrame({\n",
    "    'Sales Missing Data': salesMissingData,\n",
    "    'Customers Missing Data': customerMissingData\n",
    "})\n",
    "\n",
    "print(\"Sales Missing Values: \")\n",
    "print(salesMissingData)\n",
    "print(\"\\n\")\n",
    "print(\"Customers Missing Values: \")\n",
    "print(customerMissingData)\n",
    "print(\"\\n\")"
   ]
  },
  {
   "cell_type": "code",
   "execution_count": 19,
   "metadata": {},
   "outputs": [
    {
     "name": "stdout",
     "output_type": "stream",
     "text": [
      "Number of Unique Items: 8\n",
      "Most common item is 'Clothing' with 34487 items bought\n"
     ]
    }
   ],
   "source": [
    "# 2. Unique Products and the product with the most bought\n",
    "category = 'category'\n",
    "unique_items_count = salesData[category].value_counts()\n",
    "largest_items = unique_items_count.idxmax()\n",
    "\n",
    "print(f\"Number of Unique Items: {len(unique_items_count)}\")\n",
    "print(f\"Most common item is '{largest_items}' with {unique_items_count[largest_items]} items bought\")"
   ]
  },
  {
   "cell_type": "code",
   "execution_count": 20,
   "metadata": {},
   "outputs": [
    {
     "name": "stdout",
     "output_type": "stream",
     "text": [
      "Gender that buys more: Female\n",
      "   gender         category  Amount Bought\n",
      "0  Female         Clothing          20652\n",
      "1  Female        Cosmetics           9070\n",
      "2  Female  Food & Beverage           8804\n",
      "3    Male         Clothing          13835\n",
      "4    Male        Cosmetics           6027\n",
      "5    Male  Food & Beverage           5972\n"
     ]
    }
   ],
   "source": [
    "# 3. Who buys more\n",
    "gender = 'gender'\n",
    "unique_items_count = customerData[gender].value_counts()\n",
    "largest_gender = unique_items_count.idxmax()\n",
    "\n",
    "print(f\"Gender that buys more: {largest_gender}\")\n",
    "\n",
    "# Top 3 things each gender buys\n",
    "merge_data = pd.merge(salesData, customerData, on='customer_id')\n",
    "group_data = merge_data.groupby(['gender', 'category']).size().reset_index(name='Amount Bought')\n",
    "top_categories = group_data.groupby('gender').apply(lambda x: x.nlargest(3, 'Amount Bought')).reset_index(drop=True)\n",
    "print(top_categories)"
   ]
  },
  {
   "cell_type": "code",
   "execution_count": 21,
   "metadata": {},
   "outputs": [
    {
     "name": "stdout",
     "output_type": "stream",
     "text": [
      "Payment Method used the most: Cash\n"
     ]
    }
   ],
   "source": [
    "# 4. Is cash or credit used more\n",
    "payment_method = 'payment_method'\n",
    "unique_items_count = customerData[payment_method].value_counts()\n",
    "payment = unique_items_count.idxmax()\n",
    "\n",
    "print(f\"Payment Method used the most: {payment}\")"
   ]
  },
  {
   "cell_type": "code",
   "execution_count": 22,
   "metadata": {},
   "outputs": [
    {
     "name": "stdout",
     "output_type": "stream",
     "text": [
      "Month with the most purchases: 1\n"
     ]
    }
   ],
   "source": [
    "# 5. Month that sees the most purchases\n",
    "## Output is 1 which indicates January is the month with the most purchases\n",
    "salesData['invoice_date'] = pd.to_datetime(salesData['invoice_date'], format='%d-%m-%Y')\n",
    "salesData['month'] = salesData['invoice_date'].dt.month\n",
    "commonMonth = salesData['month'].mode().values[0]\n",
    "print(f\"Month with the most purchases: {commonMonth}\")\n"
   ]
  },
  {
   "cell_type": "code",
   "execution_count": 23,
   "metadata": {},
   "outputs": [
    {
     "name": "stdout",
     "output_type": "stream",
     "text": [
      "Bin with highest purchase amount is: $1501-$2000\n",
      "Bin with most purchases is: $0-$500\n",
      "Bin with most purchases in month with the most purchases: $0-$500\n"
     ]
    }
   ],
   "source": [
    "# 6. Dividing purchases into bins of $500\n",
    "bin_limits = [0, 500, 1000, 1500, 2000, 2500, 3000, 3500, 4000, float('inf')]\n",
    "bin_labels = ['$0-$500', '$501-$1000', '$1001-$1500', '$1501-$2000', '$2001-$2500', '$2501-3000', '3001-3500', '3501-4000','>$4000']\n",
    "salesData['price_bin'] = pd.cut(salesData['price'], bins=bin_limits, labels=bin_labels, right=False)\n",
    "\n",
    "# Bin with the highest purchase\n",
    "highestPurchase = salesData.groupby('price_bin')['price'].sum().idxmax()\n",
    "\n",
    "# Bin with most purchases\n",
    "mostPurchases = salesData['price_bin'].value_counts().idxmax()\n",
    "\n",
    "print(f\"Bin with highest purchase amount is: {highestPurchase}\")\n",
    "print(f\"Bin with most purchases is: {mostPurchases}\")\n",
    "\n",
    "# Bin with most purchases in the month with most purchases\n",
    "mostPurchasesMonth = salesData[salesData['month'] == commonMonth]\n",
    "mostPurchasesBin = mostPurchasesMonth['price_bin'].value_counts().idxmax()\n",
    "\n",
    "print(f\"Bin with most purchases in month with the most purchases: {mostPurchasesBin}\")\n",
    "\n",
    "# ------------------------------------------------------------\n",
    "#  Data shows that the bin with the most purchases in the month\n",
    "#  with the most purchases is the same as the overall bin with\n",
    "#  the most purchases ($0-$500)\n",
    "# ------------------------------------------------------------\n",
    "\n",
    "\n"
   ]
  },
  {
   "cell_type": "code",
   "execution_count": null,
   "metadata": {},
   "outputs": [],
   "source": [
    "# -------------QUESTION 2----------------"
   ]
  }
 ],
 "metadata": {
  "kernelspec": {
   "display_name": "Python 3",
   "language": "python",
   "name": "python3"
  },
  "language_info": {
   "codemirror_mode": {
    "name": "ipython",
    "version": 3
   },
   "file_extension": ".py",
   "mimetype": "text/x-python",
   "name": "python",
   "nbconvert_exporter": "python",
   "pygments_lexer": "ipython3",
   "version": "3.11.6"
  }
 },
 "nbformat": 4,
 "nbformat_minor": 2
}
